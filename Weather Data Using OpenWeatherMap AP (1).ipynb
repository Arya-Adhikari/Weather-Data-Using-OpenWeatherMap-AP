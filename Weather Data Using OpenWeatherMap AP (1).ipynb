{
 "cells": [
  {
   "cell_type": "code",
   "execution_count": null,
   "id": "691976a8-53b4-410a-bb2b-ce67d2506c0b",
   "metadata": {},
   "outputs": [],
   "source": [
    "import requests\n",
    "import pandas as pd\n",
    "import time\n",
    "\n",
    "# Define your API key and cities\n",
    "api_key = \"154efb44830a0c05dc04eba77d69f205\"  # Replace with your actual API key\n",
    "cities = [\"New York,US\", \"London,UK\", \"Tokyo,JP\", \"Sydney,AU\", \"Paris,FR\"]\n",
    "\n",
    "# List to hold weather data\n",
    "weather_data = []\n",
    "\n",
    "# Loop to collect data for 15 minutes\n",
    "start_time = time.time()\n",
    "while (time.time() - start_time) < 60:  # Run for 15 minutes (900 seconds)\n",
    "    for city in cities:\n",
    "        # Create the API request URL\n",
    "        url = f\"http://api.openweathermap.org/data/2.5/weather?q={city}&appid={api_key}&units=metric\"\n",
    "        \n",
    "        # Make the request\n",
    "        response = requests.get(url)\n",
    "\n",
    "        if response.status_code == 200:\n",
    "            # Parse the JSON response\n",
    "            data = response.json()\n",
    "            \n",
    "            # Extract required information\n",
    "            entry = {\n",
    "                \"city\": data['name'],\n",
    "                \"temperature\": data['main']['temp'],\n",
    "                \"weather\": data['weather'][0]['description'],\n",
    "                \"humidity\": data['main']['humidity'],\n",
    "                \"wind_speed\": data['wind']['speed'],\n",
    "                \"timestamp\": time.strftime(\"%Y-%m-%d %H:%M:%S\", time.localtime())\n",
    "            }\n",
    "            weather_data.append(entry)\n",
    "        else:\n",
    "            print(f\"Failed to retrieve data for {city}: {response.status_code}\")\n",
    "\n",
    "        # Wait for 1 minute before the next request\n",
    "        time.sleep(5)\n",
    "\n",
    "# Convert to DataFrame\n",
    "df = pd.DataFrame(weather_data)\n",
    "\n",
    "# Save to JSON file\n",
    "df.to_json(\"weather_data.json\", orient=\"records\", lines=True)\n",
    "\n",
    "print(\"Weather data saved to weather_data.json\")"
   ]
  },
  {
   "cell_type": "code",
   "execution_count": null,
   "id": "15ee1b63-a785-4908-ab08-9cafb0c6b9fb",
   "metadata": {},
   "outputs": [],
   "source": [
    "df"
   ]
  }
 ],
 "metadata": {
  "kernelspec": {
   "display_name": "Python 3 (ipykernel)",
   "language": "python",
   "name": "python3"
  },
  "language_info": {
   "codemirror_mode": {
    "name": "ipython",
    "version": 3
   },
   "file_extension": ".py",
   "mimetype": "text/x-python",
   "name": "python",
   "nbconvert_exporter": "python",
   "pygments_lexer": "ipython3",
   "version": "3.12.4"
  }
 },
 "nbformat": 4,
 "nbformat_minor": 5
}
